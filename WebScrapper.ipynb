{
  "nbformat": 4,
  "nbformat_minor": 0,
  "metadata": {
    "colab": {
      "provenance": [],
      "collapsed_sections": [],
      "authorship_tag": "ABX9TyNAw3Bd5qrQfhCjvYW+c2J8",
      "include_colab_link": true
    },
    "kernelspec": {
      "name": "python3",
      "display_name": "Python 3"
    },
    "language_info": {
      "name": "python"
    }
  },
  "cells": [
    {
      "cell_type": "markdown",
      "metadata": {
        "id": "view-in-github",
        "colab_type": "text"
      },
      "source": [
        "<a href=\"https://colab.research.google.com/github/Asadrind21/Data-Science/blob/main/WebScrapper.ipynb\" target=\"_parent\"><img src=\"https://colab.research.google.com/assets/colab-badge.svg\" alt=\"Open In Colab\"/></a>"
      ]
    },
    {
      "cell_type": "code",
      "execution_count": 24,
      "metadata": {
        "colab": {
          "base_uri": "https://localhost:8080/"
        },
        "id": "UPMvjp8ka98c",
        "outputId": "2a166cd9-ef85-4ff8-e5d7-eff82f376470"
      },
      "outputs": [
        {
          "output_type": "stream",
          "name": "stdout",
          "text": [
            "<h2 class=\"dg b dh di dj dk dl dm dn do dp dq dr ds dt du dv dw dx\">Stay curious.</h2>\n",
            "<h2 class=\"bv ii ec bx ct jb iu iv jc ix iz fk by\">No, Elon and Jack are not “competitors.” They’re collaborating.</h2>\n",
            "<h2 class=\"bv ii ec bx ct jb iu iv jc ix iz fk by\">Meet Julia: The Future of Data Science</h2>\n",
            "<h2 class=\"bv ii ec bx ct jb iu iv jc ix iz fk by\">Learn from my mistakes</h2>\n",
            "<h2 class=\"bv ii ec bx ct jb iu iv jc ix iz fk by\">Toyota Just Thrashed Tesla</h2>\n",
            "<h2 class=\"bv ii ec bx ct jb iu iv jc ix iz fk by\">10 Must-Read Books for Software Engineers</h2>\n",
            "<h2 class=\"bv ii ec bx ct jb iu iv jc ix iz fk by\">Elon Musk just force-ranked Twitter engineers &amp; fired the bottom.</h2>\n",
            "<h2 class=\"bv ii kj kk kl km kn ko kp kq kr ks kt ku kv kw kx ky kz la lb lc ct iu iv jc ix iz by\">The End of the Road to Serfdom</h2>\n",
            "<h2 class=\"bv ii kj kk kl km kn ko kp kq kr ks kt ku kv kw kx ky kz la lb lc ct iu iv jc ix iz by\">Elephants in the Room</h2>\n",
            "<h2 class=\"bv ii kj kk kl km kn ko kp kq kr ks kt ku kv kw kx ky kz la lb lc ct iu iv jc ix iz by\">Liberation and Power as a Black Writer</h2>\n",
            "<h2 class=\"bv ii kj kk kl km kn ko kp kq kr ks kt ku kv kw kx ky kz la lb lc ct iu iv jc ix iz by\">Writing Tools I Use All The Time</h2>\n",
            "<h2 class=\"bv ii kj kk kl km kn ko kp kq kr ks kt ku kv kw kx ky kz la lb lc ct iu iv jc ix iz by\">A n00b’s guide to Mastodon</h2>\n",
            "<h2 class=\"bv ii kj kk kl km kn ko kp kq kr ks kt ku kv kw kx ky kz la lb lc ct iu iv jc ix iz by\">How to Think About Your Career</h2>\n",
            "<h2 class=\"bv ii kj kk kl km kn ko kp kq kr ks kt ku kv kw kx ky kz la lb lc ct iu iv jc ix iz by\">I had him at “Ni Hao!”</h2>\n",
            "<h2 class=\"bv ii kj kk kl km kn ko kp kq kr ks kt ku kv kw kx ky kz la lb lc ct iu iv jc ix iz by\">Elon Musk Is Approaching Twitter As If Its Users Are Interchangeable. Is He Right?</h2>\n",
            "<h2 class=\"bv ii kj kk kl km kn ko kp kq kr ks kt ku kv kw kx ky kz la lb lc ct iu iv jc ix iz by\">The Joys of Being Wrong About Yourself</h2>\n",
            "<h2 class=\"bv ii kj kk kl km kn ko kp kq kr ks kt ku kv kw kx ky kz la lb lc ct iu iv jc ix iz by\">Feeling Overwhelmed? You Need an MVD—That’s Minimum Viable Day</h2>\n",
            "<h2 class=\"bv fh ec bx fk hx\">Get the Medium app</h2>\n"
          ]
        }
      ],
      "source": [
        "from bs4 import BeautifulSoup\n",
        "import requests\n",
        "response = requests.get(\"https://medium.com/\")\n",
        "soup = BeautifulSoup(response.content)\n",
        "soup = BeautifulSoup(response.content, 'html5lib')\n",
        "headlines = soup.findAll(\"h2\")\n",
        "print(*headlines, sep='\\n')"
      ]
    },
    {
      "cell_type": "code",
      "source": [],
      "metadata": {
        "id": "szxAF5Uwb6ZU"
      },
      "execution_count": null,
      "outputs": []
    }
  ]
}