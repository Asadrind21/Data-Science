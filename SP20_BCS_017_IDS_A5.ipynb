{
  "nbformat": 4,
  "nbformat_minor": 0,
  "metadata": {
    "colab": {
      "provenance": []
    },
    "kernelspec": {
      "name": "python3",
      "display_name": "Python 3"
    },
    "language_info": {
      "name": "python"
    }
  },
  "cells": [
    {
      "cell_type": "code",
      "execution_count": 1,
      "metadata": {
        "colab": {
          "base_uri": "https://localhost:8080/"
        },
        "id": "e5Ecm82nO0gv",
        "outputId": "7131eb21-5a10-4aa9-dfd2-045acbcf6908"
      },
      "outputs": [
        {
          "output_type": "stream",
          "name": "stderr",
          "text": [
            "/usr/local/lib/python3.8/dist-packages/torch/cuda/__init__.py:497: UserWarning: Can't initialize NVML\n",
            "  warnings.warn(\"Can't initialize NVML\")\n"
          ]
        },
        {
          "output_type": "stream",
          "name": "stdout",
          "text": [
            "   brown  enjoy  fast  fox  high  jump  run  state  sunshine\n",
            "0      0      1     0    0     0     0    0      1         2\n",
            "1      2      0     0    2     1     1    1      0         0\n",
            "2      0      0     1    1     0     0    1      1         1\n",
            "Cosine Similarity between S1 & S3: 0.48\n"
          ]
        }
      ],
      "source": [
        "import numpy as np\n",
        "import pandas as pd\n",
        "import spacy\n",
        "from sklearn.feature_extraction.text import CountVectorizer, TfidfVectorizer, TfidfTransformer\n",
        "import warnings\n",
        "warnings.filterwarnings('ignore')\n",
        "from numpy.linalg import norm\n",
        "\n",
        "     \n",
        "\n",
        "S1 = \"sunshine state enjoy sunshine\"\n",
        "S2 = \"brown fox jump high, brown fox run\"\n",
        "S3 = \"sunshine state fox run fast\"\n",
        "     \n",
        "\n",
        "CountVec = CountVectorizer(ngram_range=(1,1))\n",
        "\n",
        "Count_data = CountVec.fit_transform([S1,S2,S3])\n",
        "cv_data = Count_data.toarray()\n",
        "\n",
        "cv_dataframe=pd.DataFrame(cv_data,columns=CountVec.get_feature_names())\n",
        "print(cv_dataframe)\n",
        "\n",
        "     \n",
        "#TF Model\n",
        "tf_vec = TfidfVectorizer(use_idf=False)\n",
        "tf_data = tf_vec.fit_transform([S1, S2, S3])\n",
        "tf= np.round_(tf_data.toarray(),decimals = 3)\n",
        "\n",
        "tf_dataframe=pd.DataFrame(tf,columns=tf_vec.get_feature_names())\n",
        "tf_dataframe\n",
        "\n",
        "     \n",
        "\n",
        "#TF-IDF Model\n",
        "tf_idf_vec = TfidfVectorizer(use_idf=True) \n",
        "tf_idf_data = tf_idf_vec.fit_transform([S1, S2, S3])\n",
        "tfidf_data=tf_idf_data.toarray()\n",
        "tf_idf_dataframe=pd.DataFrame(tfidf_data,columns=tf_idf_vec.get_feature_names())\n",
        "tf_idf_dataframe\n",
        "     \n",
        "t1 = np.array(tfidf_data[0])\n",
        "t3 = np.array(tfidf_data[2])\n",
        "     \n",
        "\n",
        "# compute cosine similarity\n",
        "cosine = np.dot(t1,t3)/(norm(t1)*norm(t3))\n",
        "print(\"Cosine Similarity between S1 & S3:\", round(cosine,2))"
      ]
    }
  ]
}